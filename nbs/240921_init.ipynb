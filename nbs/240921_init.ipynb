{
 "cells": [
  {
   "cell_type": "code",
   "execution_count": null,
   "metadata": {},
   "outputs": [],
   "source": [
    "const preCommitTesting = \"hello there\""
   ]
  },
  {
   "cell_type": "code",
   "execution_count": null,
   "metadata": {},
   "outputs": [
    {
     "name": "stdout",
     "output_type": "stream",
     "text": [
      "hello there\n"
     ]
    }
   ],
   "source": [
    "preCommitTesting"
   ]
  }
 ],
 "metadata": {
  "kernelspec": {
   "display_name": "tslab",
   "language": "typescript",
   "name": "tslab"
  }
 },
 "nbformat": 4,
 "nbformat_minor": 2
}
